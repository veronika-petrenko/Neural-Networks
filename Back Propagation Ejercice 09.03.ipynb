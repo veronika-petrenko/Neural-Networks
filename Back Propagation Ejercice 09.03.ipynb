{
 "cells": [
  {
   "cell_type": "code",
   "execution_count": 1,
   "metadata": {},
   "outputs": [],
   "source": [
    "def Neurona(X, W, b):\n",
    "    return sum(W*X)+b"
   ]
  },
  {
   "cell_type": "code",
   "execution_count": 4,
   "metadata": {},
   "outputs": [],
   "source": [
    "#Función activacion\n",
    "def sigmoid(x):\n",
    "    sg = 1/(1+np.exp(-x))\n",
    "    return sg\n"
   ]
  },
  {
   "cell_type": "code",
   "execution_count": 5,
   "metadata": {},
   "outputs": [],
   "source": [
    "w1= 0.01\n",
    "w2= 0.02\n",
    "w3= 0.03\n",
    "w4= 0.04\n",
    "w5= 0.05\n",
    "w6= 0.06\n",
    "w7= 0.07\n",
    "w8= 0.08\n",
    "w9= 0.09\n",
    "w10= 0.10\n",
    "b1,b2,b3,b4,b5=0.1,0.2,0.3,0.4,0.5\n",
    "eta=0.3\n",
    "x1=0.2\n",
    "x2=0.3\n",
    "Y=1"
   ]
  },
  {
   "cell_type": "markdown",
   "metadata": {},
   "source": [
    "# first forward propagation"
   ]
  },
  {
   "cell_type": "code",
   "execution_count": 7,
   "metadata": {},
   "outputs": [],
   "source": [
    "import numpy as np\n",
    "X = np.array([x1,x2])"
   ]
  },
  {
   "cell_type": "code",
   "execution_count": 8,
   "metadata": {},
   "outputs": [],
   "source": [
    "W1 = np.array([w1,w2])"
   ]
  },
  {
   "cell_type": "code",
   "execution_count": 9,
   "metadata": {},
   "outputs": [
    {
     "data": {
      "text/plain": [
       "0.5269737865749146"
      ]
     },
     "execution_count": 9,
     "metadata": {},
     "output_type": "execute_result"
    }
   ],
   "source": [
    "a11 = sigmoid(Neurona(X,W1,b1))\n",
    "a11"
   ]
  },
  {
   "cell_type": "code",
   "execution_count": 17,
   "metadata": {},
   "outputs": [
    {
     "data": {
      "text/plain": [
       "0.5542851826734679"
      ]
     },
     "execution_count": 17,
     "metadata": {},
     "output_type": "execute_result"
    }
   ],
   "source": [
    "W2 = np.array([w3,w4])\n",
    "a12 = sigmoid(Neurona(X,W2,b2))\n",
    "a12"
   ]
  },
  {
   "cell_type": "code",
   "execution_count": 18,
   "metadata": {},
   "outputs": [],
   "source": [
    "W3 = np.array([w5,w6])\n",
    "Xlayer1 = np.array([a11,a12])"
   ]
  },
  {
   "cell_type": "code",
   "execution_count": 19,
   "metadata": {},
   "outputs": [
    {
     "data": {
      "text/plain": [
       "0.5889450060764073"
      ]
     },
     "execution_count": 19,
     "metadata": {},
     "output_type": "execute_result"
    }
   ],
   "source": [
    "a21 = sigmoid(Neurona(Xlayer1,W3,b3))\n",
    "a21"
   ]
  },
  {
   "cell_type": "code",
   "execution_count": 20,
   "metadata": {},
   "outputs": [
    {
     "data": {
      "text/plain": [
       "0.6180385105307805"
      ]
     },
     "execution_count": 20,
     "metadata": {},
     "output_type": "execute_result"
    }
   ],
   "source": [
    "W4 = np.array([w7,w8])\n",
    "a22 = sigmoid(Neurona(Xlayer1,W4,b4))\n",
    "a22"
   ]
  },
  {
   "cell_type": "code",
   "execution_count": 23,
   "metadata": {},
   "outputs": [],
   "source": [
    "W5 = np.array([w9,w10])\n",
    "Xlayer2 = np.array([a21,a22])\n",
    "a3 = sigmoid(Neurona(Xlayer2,W5,b5))"
   ]
  },
  {
   "cell_type": "code",
   "execution_count": 24,
   "metadata": {},
   "outputs": [
    {
     "data": {
      "text/plain": [
       "0.6490369955670625"
      ]
     },
     "execution_count": 24,
     "metadata": {},
     "output_type": "execute_result"
    }
   ],
   "source": [
    "a3"
   ]
  },
  {
   "cell_type": "markdown",
   "metadata": {},
   "source": [
    "# first back propagation"
   ]
  },
  {
   "cell_type": "code",
   "execution_count": 26,
   "metadata": {},
   "outputs": [
    {
     "data": {
      "text/plain": [
       "0.11482275474647367"
      ]
     },
     "execution_count": 26,
     "metadata": {},
     "output_type": "execute_result"
    }
   ],
   "source": [
    "w10nuevo = w10 - eta*(-(Y-a3))*(a3*(1-a3))*a22\n",
    "w10nuevo"
   ]
  },
  {
   "cell_type": "code",
   "execution_count": 27,
   "metadata": {},
   "outputs": [
    {
     "data": {
      "text/plain": [
       "0.10412498935824202"
      ]
     },
     "execution_count": 27,
     "metadata": {},
     "output_type": "execute_result"
    }
   ],
   "source": [
    "w9nuevo = w9 - eta*(-(Y-a3))*(a3*(1-a3))*a21\n",
    "w9nuevo"
   ]
  },
  {
   "cell_type": "code",
   "execution_count": 28,
   "metadata": {},
   "outputs": [
    {
     "data": {
      "text/plain": [
       "0.5239835455136018"
      ]
     },
     "execution_count": 28,
     "metadata": {},
     "output_type": "execute_result"
    }
   ],
   "source": [
    "b5nuevo = b5 - eta*(-(Y-a3))*(a3*(1-a3))\n",
    "b5nuevo"
   ]
  },
  {
   "cell_type": "code",
   "execution_count": null,
   "metadata": {},
   "outputs": [],
   "source": [
    "#layer 2"
   ]
  },
  {
   "cell_type": "code",
   "execution_count": 34,
   "metadata": {},
   "outputs": [
    {
     "data": {
      "text/plain": [
       "0.08031382083253424"
      ]
     },
     "execution_count": 34,
     "metadata": {},
     "output_type": "execute_result"
    }
   ],
   "source": [
    "w8nuevo = w8 - eta*(-(Y-a3))*(a3*(1-a3))* w10 * a22*(1-a22)*a12\n",
    "w8nuevo"
   ]
  },
  {
   "cell_type": "code",
   "execution_count": 35,
   "metadata": {},
   "outputs": [
    {
     "data": {
      "text/plain": [
       "0.07031382083253425"
      ]
     },
     "execution_count": 35,
     "metadata": {},
     "output_type": "execute_result"
    }
   ],
   "source": [
    "w7nuevo = w7 - eta*(-(Y-a3))*(a3*(1-a3))* w10 * a22*(1-a22)*a12\n",
    "w7nuevo"
   ]
  },
  {
   "cell_type": "code",
   "execution_count": 36,
   "metadata": {},
   "outputs": [
    {
     "data": {
      "text/plain": [
       "0.40056617214810003"
      ]
     },
     "execution_count": 36,
     "metadata": {},
     "output_type": "execute_result"
    }
   ],
   "source": [
    "b4nuevo = b4- eta*(-(Y-a3))*(a3*(1-a3)) * w10 * a22*(1-a22) *1\n",
    "b4nuevo"
   ]
  },
  {
   "cell_type": "code",
   "execution_count": 37,
   "metadata": {},
   "outputs": [
    {
     "data": {
      "text/plain": [
       "0.06027537187397412"
      ]
     },
     "execution_count": 37,
     "metadata": {},
     "output_type": "execute_result"
    }
   ],
   "source": [
    "w6nuevo = w6 - eta*(-(Y-a3))*(a3*(1-a3))* w9 * a21*(1-a21)*a11\n",
    "w6nuevo"
   ]
  },
  {
   "cell_type": "code",
   "execution_count": 38,
   "metadata": {},
   "outputs": [
    {
     "data": {
      "text/plain": [
       "0.05027537187397413"
      ]
     },
     "execution_count": 38,
     "metadata": {},
     "output_type": "execute_result"
    }
   ],
   "source": [
    "w5nuevo = w5 - eta*(-(Y-a3))*(a3*(1-a3))* w9 * a21*(1-a21)*a11\n",
    "w5nuevo"
   ]
  },
  {
   "cell_type": "code",
   "execution_count": 39,
   "metadata": {},
   "outputs": [
    {
     "data": {
      "text/plain": [
       "0.30052255326733407"
      ]
     },
     "execution_count": 39,
     "metadata": {},
     "output_type": "execute_result"
    }
   ],
   "source": [
    "b3nuevo = b3- eta*(-(Y-a3))*(a3*(1-a3)) * w9 * a21*(1-a21) *1\n",
    "b3nuevo"
   ]
  },
  {
   "cell_type": "code",
   "execution_count": 40,
   "metadata": {},
   "outputs": [],
   "source": [
    "#layer1"
   ]
  },
  {
   "cell_type": "code",
   "execution_count": 43,
   "metadata": {},
   "outputs": [
    {
     "data": {
      "text/plain": [
       "0.010014473123869973"
      ]
     },
     "execution_count": 43,
     "metadata": {},
     "output_type": "execute_result"
    }
   ],
   "source": [
    "w1nuevo1 = w1 - eta*(-(Y-a3))*(a3*(1-a3))* w5 * a21*(1-a21)* a11*(1-a11) *x1\n",
    "w1nuevo1"
   ]
  },
  {
   "cell_type": "code",
   "execution_count": 44,
   "metadata": {},
   "outputs": [
    {
     "data": {
      "text/plain": [
       "0.010019758353799911"
      ]
     },
     "execution_count": 44,
     "metadata": {},
     "output_type": "execute_result"
    }
   ],
   "source": [
    "w1nuevo2 = w1 - eta*(-(Y-a3))*(a3*(1-a3))* w7 * a22*(1-a22)* a11*(1-a11) *x1\n",
    "w1nuevo2"
   ]
  },
  {
   "cell_type": "code",
   "execution_count": 46,
   "metadata": {},
   "outputs": [
    {
     "data": {
      "text/plain": [
       "0.020034231477669882"
      ]
     },
     "execution_count": 46,
     "metadata": {},
     "output_type": "execute_result"
    }
   ],
   "source": [
    "w1nuevo = w1nuevo1+w1nuevo2 \n",
    "w1nuevo"
   ]
  },
  {
   "cell_type": "code",
   "execution_count": 47,
   "metadata": {},
   "outputs": [
    {
     "data": {
      "text/plain": [
       "0.02001447312386997"
      ]
     },
     "execution_count": 47,
     "metadata": {},
     "output_type": "execute_result"
    }
   ],
   "source": [
    "w2nuevo1 = w2 - eta*(-(Y-a3))*(a3*(1-a3))* w5 * a21*(1-a21)* a11*(1-a11) *x1\n",
    "w2nuevo1"
   ]
  },
  {
   "cell_type": "code",
   "execution_count": 48,
   "metadata": {},
   "outputs": [
    {
     "data": {
      "text/plain": [
       "0.02001975835379991"
      ]
     },
     "execution_count": 48,
     "metadata": {},
     "output_type": "execute_result"
    }
   ],
   "source": [
    "w2nuevo2 = w2 - eta*(-(Y-a3))*(a3*(1-a3))* w7 * a22*(1-a22)* a11*(1-a11) *x1\n",
    "w2nuevo2"
   ]
  },
  {
   "cell_type": "code",
   "execution_count": 50,
   "metadata": {},
   "outputs": [
    {
     "data": {
      "text/plain": [
       "0.04003423147766988"
      ]
     },
     "execution_count": 50,
     "metadata": {},
     "output_type": "execute_result"
    }
   ],
   "source": [
    "w2nuevo = w2nuevo1 + w2nuevo2\n",
    "w2nuevo"
   ]
  },
  {
   "cell_type": "code",
   "execution_count": 51,
   "metadata": {},
   "outputs": [
    {
     "data": {
      "text/plain": [
       "0.030041962378513875"
      ]
     },
     "execution_count": 51,
     "metadata": {},
     "output_type": "execute_result"
    }
   ],
   "source": [
    "w3nuevo1 = w3 - eta*(-(Y-a3))*(a3*(1-a3))* w10 * a22*(1-a22)* a12*(1-a12) *x2\n",
    "w3nuevo1"
   ]
  },
  {
   "cell_type": "code",
   "execution_count": 53,
   "metadata": {},
   "outputs": [
    {
     "data": {
      "text/plain": [
       "0.03003872952435248"
      ]
     },
     "execution_count": 53,
     "metadata": {},
     "output_type": "execute_result"
    }
   ],
   "source": [
    "w3nuevo2 = w3 - eta*(-(Y-a3))*(a3*(1-a3))* w9 * a21*(1-a21)* a12*(1-a12) *x2\n",
    "w3nuevo2"
   ]
  },
  {
   "cell_type": "code",
   "execution_count": 55,
   "metadata": {},
   "outputs": [
    {
     "data": {
      "text/plain": [
       "0.06007745904870496"
      ]
     },
     "execution_count": 55,
     "metadata": {},
     "output_type": "execute_result"
    }
   ],
   "source": [
    "w3nuevo = w3nuevo1+ w3nuevo2\n",
    "w3nuevo"
   ]
  },
  {
   "cell_type": "code",
   "execution_count": 56,
   "metadata": {},
   "outputs": [
    {
     "data": {
      "text/plain": [
       "0.04004196237851388"
      ]
     },
     "execution_count": 56,
     "metadata": {},
     "output_type": "execute_result"
    }
   ],
   "source": [
    "w4nuevo1 = w4 - eta*(-(Y-a3))*(a3*(1-a3))* w10 * a22*(1-a22)* a12*(1-a12) *x2\n",
    "w4nuevo1"
   ]
  },
  {
   "cell_type": "code",
   "execution_count": 57,
   "metadata": {},
   "outputs": [
    {
     "data": {
      "text/plain": [
       "0.04003872952435248"
      ]
     },
     "execution_count": 57,
     "metadata": {},
     "output_type": "execute_result"
    }
   ],
   "source": [
    "w4nuevo2 = w4 - eta*(-(Y-a3))*(a3*(1-a3))* w9 * a21*(1-a21)* a12*(1-a12) *x2\n",
    "w4nuevo2"
   ]
  },
  {
   "cell_type": "code",
   "execution_count": 59,
   "metadata": {},
   "outputs": [
    {
     "data": {
      "text/plain": [
       "0.08008069190286636"
      ]
     },
     "execution_count": 59,
     "metadata": {},
     "output_type": "execute_result"
    }
   ],
   "source": [
    "w4nuevo = w4nuevo1+w4nuevo2\n",
    "w4nuevo"
   ]
  },
  {
   "cell_type": "code",
   "execution_count": 63,
   "metadata": {},
   "outputs": [
    {
     "data": {
      "text/plain": [
       "0.40026897300955455"
      ]
     },
     "execution_count": 63,
     "metadata": {},
     "output_type": "execute_result"
    }
   ],
   "source": [
    "b2nuevo1 = b2 - eta*(-(Y-a3))*(a3*(1-a3)) * w10 * a22*(1-a22) * a12*(1 -a12) *1\n",
    "b2nuevo2 = b2 - eta*(-(Y-a3))*(a3*(1-a3)) * w9 * a21*(1-a21) * a12*(1 -a12) *1\n",
    "b2nuevo = b2nuevo1 + b2nuevo2\n",
    "b2nuevo"
   ]
  },
  {
   "cell_type": "code",
   "execution_count": 64,
   "metadata": {},
   "outputs": [
    {
     "data": {
      "text/plain": [
       "0.20027138921340054"
      ]
     },
     "execution_count": 64,
     "metadata": {},
     "output_type": "execute_result"
    }
   ],
   "source": [
    "b1nuevo1 = b1 - eta*(-(Y-a3))*(a3*(1-a3)) * w10 * a22*(1-a22) * a11*(1 -a11) *1\n",
    "b1nuevo2 = b1 - eta*(-(Y-a3))*(a3*(1-a3)) * w9 * a21*(1-a21) * a11*(1 -a11) *1\n",
    "b1nuevo = b1nuevo1 + b1nuevo2\n",
    "b1nuevo"
   ]
  },
  {
   "cell_type": "markdown",
   "metadata": {},
   "source": [
    "# second forward propagation"
   ]
  },
  {
   "cell_type": "code",
   "execution_count": 66,
   "metadata": {},
   "outputs": [],
   "source": [
    "X = np.array([x1,x2])\n",
    "W1 = np.array([w1nuevo,w2nuevo])"
   ]
  },
  {
   "cell_type": "code",
   "execution_count": 67,
   "metadata": {},
   "outputs": [
    {
     "data": {
      "text/plain": [
       "0.5538623132987915"
      ]
     },
     "execution_count": 67,
     "metadata": {},
     "output_type": "execute_result"
    }
   ],
   "source": [
    "a11 = sigmoid(Neurona(X,W1,b1nuevo))\n",
    "a11"
   ]
  },
  {
   "cell_type": "code",
   "execution_count": 68,
   "metadata": {},
   "outputs": [
    {
     "data": {
      "text/plain": [
       "0.6073791106349815"
      ]
     },
     "execution_count": 68,
     "metadata": {},
     "output_type": "execute_result"
    }
   ],
   "source": [
    "W2 = np.array([w3nuevo,w4nuevo])\n",
    "a12 = sigmoid(Neurona(X,W2,b2nuevo))\n",
    "a12"
   ]
  },
  {
   "cell_type": "code",
   "execution_count": 69,
   "metadata": {},
   "outputs": [],
   "source": [
    "W3 = np.array([w5nuevo,w6nuevo])\n",
    "Xlayer1 = np.array([a11,a12])"
   ]
  },
  {
   "cell_type": "code",
   "execution_count": 70,
   "metadata": {},
   "outputs": [
    {
     "data": {
      "text/plain": [
       "0.5902449767737541"
      ]
     },
     "execution_count": 70,
     "metadata": {},
     "output_type": "execute_result"
    }
   ],
   "source": [
    "a21 = sigmoid(Neurona(Xlayer1,W3,b3nuevo))\n",
    "a21"
   ]
  },
  {
   "cell_type": "code",
   "execution_count": 71,
   "metadata": {},
   "outputs": [
    {
     "data": {
      "text/plain": [
       "0.6197038201509149"
      ]
     },
     "execution_count": 71,
     "metadata": {},
     "output_type": "execute_result"
    }
   ],
   "source": [
    "W4 = np.array([w7nuevo,w8nuevo])\n",
    "a22 = sigmoid(Neurona(Xlayer1,W4,b4nuevo))\n",
    "a22"
   ]
  },
  {
   "cell_type": "code",
   "execution_count": 73,
   "metadata": {},
   "outputs": [
    {
     "data": {
      "text/plain": [
       "0.6584959645624875"
      ]
     },
     "execution_count": 73,
     "metadata": {},
     "output_type": "execute_result"
    }
   ],
   "source": [
    "W5 = np.array([w9nuevo,w10nuevo])\n",
    "Xlayer2 = np.array([a21,a22])\n",
    "a3 = sigmoid(Neurona(Xlayer2,W5,b5nuevo))\n",
    "a3"
   ]
  },
  {
   "cell_type": "markdown",
   "metadata": {},
   "source": [
    "# second back propagation"
   ]
  },
  {
   "cell_type": "code",
   "execution_count": 75,
   "metadata": {},
   "outputs": [
    {
     "data": {
      "text/plain": [
       "0.12910019086990665"
      ]
     },
     "execution_count": 75,
     "metadata": {},
     "output_type": "execute_result"
    }
   ],
   "source": [
    "w10nuevo2 = w10nuevo - eta*(-(Y-a3))*(a3*(1-a3))*a22\n",
    "w10nuevo2"
   ]
  },
  {
   "cell_type": "code",
   "execution_count": 76,
   "metadata": {},
   "outputs": [
    {
     "data": {
      "text/plain": [
       "0.11772371939513643"
      ]
     },
     "execution_count": 76,
     "metadata": {},
     "output_type": "execute_result"
    }
   ],
   "source": [
    "w9nuevo2 = w9nuevo - eta*(-(Y-a3))*(a3*(1-a3))*a21\n",
    "w9nuevo2"
   ]
  },
  {
   "cell_type": "code",
   "execution_count": 77,
   "metadata": {},
   "outputs": [
    {
     "data": {
      "text/plain": [
       "0.5470226743025062"
      ]
     },
     "execution_count": 77,
     "metadata": {},
     "output_type": "execute_result"
    }
   ],
   "source": [
    "b5nuevo2 = b5nuevo - eta*(-(Y-a3))*(a3*(1-a3))\n",
    "b5nuevo2"
   ]
  },
  {
   "cell_type": "code",
   "execution_count": 78,
   "metadata": {},
   "outputs": [
    {
     "data": {
      "text/plain": [
       "0.08064360669954547"
      ]
     },
     "execution_count": 78,
     "metadata": {},
     "output_type": "execute_result"
    }
   ],
   "source": [
    "w8nuevo2 = w8nuevo - eta*(-(Y-a3))*(a3*(1-a3))* w10 * a22*(1-a22)*a12\n",
    "w8nuevo2"
   ]
  },
  {
   "cell_type": "code",
   "execution_count": 79,
   "metadata": {},
   "outputs": [
    {
     "data": {
      "text/plain": [
       "0.07064360669954547"
      ]
     },
     "execution_count": 79,
     "metadata": {},
     "output_type": "execute_result"
    }
   ],
   "source": [
    "w7nuevo2 = w7nuevo - eta*(-(Y-a3))*(a3*(1-a3))* w10 * a22*(1-a22)*a12\n",
    "w7nuevo2"
   ]
  },
  {
   "cell_type": "code",
   "execution_count": 80,
   "metadata": {},
   "outputs": [
    {
     "data": {
      "text/plain": [
       "0.40110913758967814"
      ]
     },
     "execution_count": 80,
     "metadata": {},
     "output_type": "execute_result"
    }
   ],
   "source": [
    "b4nuevo2 = b4nuevo- eta*(-(Y-a3))*(a3*(1-a3)) * w10 * a22*(1-a22) *1\n",
    "b4nuevo2"
   ]
  },
  {
   "cell_type": "code",
   "execution_count": 81,
   "metadata": {},
   "outputs": [
    {
     "data": {
      "text/plain": [
       "0.06055313012140779"
      ]
     },
     "execution_count": 81,
     "metadata": {},
     "output_type": "execute_result"
    }
   ],
   "source": [
    "w6nuevo2 = w6nuevo - eta*(-(Y-a3))*(a3*(1-a3))* w9 * a21*(1-a21)*a11\n",
    "w6nuevo2"
   ]
  },
  {
   "cell_type": "code",
   "execution_count": 82,
   "metadata": {},
   "outputs": [
    {
     "data": {
      "text/plain": [
       "0.050553130121407795"
      ]
     },
     "execution_count": 82,
     "metadata": {},
     "output_type": "execute_result"
    }
   ],
   "source": [
    "w5nuevo2 = w5nuevo - eta*(-(Y-a3))*(a3*(1-a3))* w9 * a21*(1-a21)*a11\n",
    "w5nuevo2"
   ]
  },
  {
   "cell_type": "code",
   "execution_count": 83,
   "metadata": {},
   "outputs": [
    {
     "data": {
      "text/plain": [
       "0.30102404658212445"
      ]
     },
     "execution_count": 83,
     "metadata": {},
     "output_type": "execute_result"
    }
   ],
   "source": [
    "b3nuevo2 = b3nuevo- eta*(-(Y-a3))*(a3*(1-a3)) * w9 * a21*(1-a21) *1\n",
    "b3nuevo2"
   ]
  },
  {
   "cell_type": "code",
   "execution_count": 85,
   "metadata": {},
   "outputs": [],
   "source": [
    "#layer1"
   ]
  },
  {
   "cell_type": "code",
   "execution_count": 86,
   "metadata": {},
   "outputs": [],
   "source": [
    "w1nuevo12 = w1nuevo - eta*(-(Y-a3))*(a3*(1-a3))* w5 * a21*(1-a21)* a11*(1-a11) *x1\n",
    "w1nuevo22 = w1nuevo - eta*(-(Y-a3))*(a3*(1-a3))* w7 * a22*(1-a22)* a11*(1-a11) *x1\n",
    "w1nuevo2 = w1nuevo12 +w1nuevo22"
   ]
  },
  {
   "cell_type": "code",
   "execution_count": 87,
   "metadata": {},
   "outputs": [
    {
     "data": {
      "text/plain": [
       "0.08010101492805244"
      ]
     },
     "execution_count": 87,
     "metadata": {},
     "output_type": "execute_result"
    }
   ],
   "source": [
    "w2nuevo12 = w2nuevo - eta*(-(Y-a3))*(a3*(1-a3))* w5 * a21*(1-a21)* a11*(1-a11) *x1\n",
    "w2nuevo22 = w2nuevo - eta*(-(Y-a3))*(a3*(1-a3))* w7 * a22*(1-a22)* a11*(1-a11) *x1\n",
    "w2nuevo22 = w2nuevo12+w2nuevo22 \n",
    "w2nuevo22"
   ]
  },
  {
   "cell_type": "code",
   "execution_count": 88,
   "metadata": {},
   "outputs": [],
   "source": [
    "w3nuevo12 = w3nuevo - eta*(-(Y-a3))*(a3*(1-a3))* w10 * a22*(1-a22)* a12*(1-a12) *x2\n",
    "w3nuevo22 = w3nuevo - eta*(-(Y-a3))*(a3*(1-a3))* w9 * a21*(1-a21)* a12*(1-a12) *x2\n",
    "w3nuevo22 = w3nuevo12+w3nuevo22"
   ]
  },
  {
   "cell_type": "code",
   "execution_count": 90,
   "metadata": {},
   "outputs": [],
   "source": [
    "w4nuevo1 = w4nuevo - eta*(-(Y-a3))*(a3*(1-a3))* w10 * a22*(1-a22)* a12*(1-a12) *x2\n",
    "w4nuevo2 = w4nuevo - eta*(-(Y-a3))*(a3*(1-a3))* w9 * a21*(1-a21)* a12*(1-a12) *x2\n",
    "w2nuevo22 = w4nuevo1+w4nuevo2"
   ]
  },
  {
   "cell_type": "code",
   "execution_count": 94,
   "metadata": {},
   "outputs": [
    {
     "data": {
      "text/plain": [
       "0.8007870178131845"
      ]
     },
     "execution_count": 94,
     "metadata": {},
     "output_type": "execute_result"
    }
   ],
   "source": [
    "b2nuevo1 = b2nuevo - eta*(-(Y-a3))*(a3*(1-a3)) * w10 * a22*(1-a22) * a12*(1 -a12) *1\n",
    "b2nuevo2 = b2nuevo - eta*(-(Y-a3))*(a3*(1-a3)) * w9 * a21*(1-a21) * a12*(1 -a12) *1\n",
    "b2nuevo2 = b2nuevo1 + b2nuevo2\n",
    "b2nuevo2"
   ]
  },
  {
   "cell_type": "code",
   "execution_count": 96,
   "metadata": {},
   "outputs": [
    {
     "data": {
      "text/plain": [
       "0.4008008629856319"
      ]
     },
     "execution_count": 96,
     "metadata": {},
     "output_type": "execute_result"
    }
   ],
   "source": [
    "b1nuevo1 = b1nuevo - eta*(-(Y-a3))*(a3*(1-a3)) * w10 * a22*(1-a22) * a11*(1 -a11) *1\n",
    "b1nuevo2 = b1nuevo - eta*(-(Y-a3))*(a3*(1-a3)) * w9 * a21*(1-a21) * a11*(1 -a11) *1\n",
    "b1nuevo2 = b1nuevo1 + b1nuevo2\n",
    "b1nuevo2"
   ]
  },
  {
   "cell_type": "markdown",
   "metadata": {},
   "source": [
    "# third forward propagation"
   ]
  },
  {
   "cell_type": "code",
   "execution_count": 98,
   "metadata": {},
   "outputs": [
    {
     "data": {
      "text/plain": [
       "0.6022447345988752"
      ]
     },
     "execution_count": 98,
     "metadata": {},
     "output_type": "execute_result"
    }
   ],
   "source": [
    "X = np.array([x1,x2])\n",
    "W1 = np.array([w1nuevo2,w2nuevo2])\n",
    "a11 = sigmoid(Neurona(X,W1,b1nuevo2))\n",
    "a11"
   ]
  },
  {
   "cell_type": "code",
   "execution_count": 99,
   "metadata": {},
   "outputs": [
    {
     "data": {
      "text/plain": [
       "0.6965303442267601"
      ]
     },
     "execution_count": 99,
     "metadata": {},
     "output_type": "execute_result"
    }
   ],
   "source": [
    "W2 = np.array([w3nuevo2,w4nuevo2])\n",
    "a12 = sigmoid(Neurona(X,W2,b2nuevo2))\n",
    "a12"
   ]
  },
  {
   "cell_type": "code",
   "execution_count": 100,
   "metadata": {},
   "outputs": [],
   "source": [
    "W3 = np.array([w5nuevo2,w6nuevo2])\n",
    "Xlayer1 = np.array([a11,a12])"
   ]
  },
  {
   "cell_type": "code",
   "execution_count": 101,
   "metadata": {},
   "outputs": [
    {
     "data": {
      "text/plain": [
       "0.5923398055876522"
      ]
     },
     "execution_count": 101,
     "metadata": {},
     "output_type": "execute_result"
    }
   ],
   "source": [
    "a21 = sigmoid(Neurona(Xlayer1,W3,b3nuevo2))\n",
    "a21"
   ]
  },
  {
   "cell_type": "code",
   "execution_count": 102,
   "metadata": {},
   "outputs": [
    {
     "data": {
      "text/plain": [
       "0.6224181099349498"
      ]
     },
     "execution_count": 102,
     "metadata": {},
     "output_type": "execute_result"
    }
   ],
   "source": [
    "W4 = np.array([w7nuevo2,w8nuevo2])\n",
    "a22 = sigmoid(Neurona(Xlayer1,W4,b4nuevo2))\n",
    "a22"
   ]
  },
  {
   "cell_type": "code",
   "execution_count": 103,
   "metadata": {},
   "outputs": [
    {
     "data": {
      "text/plain": [
       "0.6675465812430467"
      ]
     },
     "execution_count": 103,
     "metadata": {},
     "output_type": "execute_result"
    }
   ],
   "source": [
    "W5 = np.array([w9nuevo2,w10nuevo2])\n",
    "Xlayer2 = np.array([a21,a22])\n",
    "a3 = sigmoid(Neurona(Xlayer2,W5,b5nuevo2))\n",
    "a3"
   ]
  },
  {
   "cell_type": "code",
   "execution_count": null,
   "metadata": {},
   "outputs": [],
   "source": []
  }
 ],
 "metadata": {
  "kernelspec": {
   "display_name": "Python 3",
   "language": "python",
   "name": "python3"
  },
  "language_info": {
   "codemirror_mode": {
    "name": "ipython",
    "version": 3
   },
   "file_extension": ".py",
   "mimetype": "text/x-python",
   "name": "python",
   "nbconvert_exporter": "python",
   "pygments_lexer": "ipython3",
   "version": "3.8.5"
  }
 },
 "nbformat": 4,
 "nbformat_minor": 4
}
